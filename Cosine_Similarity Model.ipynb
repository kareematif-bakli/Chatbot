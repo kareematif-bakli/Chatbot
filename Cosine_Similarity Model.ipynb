{
 "cells": [
  {
   "cell_type": "code",
   "execution_count": 1,
   "metadata": {},
   "outputs": [],
   "source": [
    "import pandas as pd\n",
    "import numpy as np\n",
    "from sklearn.feature_extraction.text import TfidfVectorizer\n",
    "from sklearn.metrics.pairwise import cosine_similarity\n",
    "import numpy as np\n",
    "\n",
    "data = pd.read_csv(\"Data2.csv\")\n"
   ]
  },
  {
   "cell_type": "code",
   "execution_count": 2,
   "metadata": {},
   "outputs": [
    {
     "data": {
      "text/html": [
       "<div>\n",
       "<style scoped>\n",
       "    .dataframe tbody tr th:only-of-type {\n",
       "        vertical-align: middle;\n",
       "    }\n",
       "\n",
       "    .dataframe tbody tr th {\n",
       "        vertical-align: top;\n",
       "    }\n",
       "\n",
       "    .dataframe thead th {\n",
       "        text-align: right;\n",
       "    }\n",
       "</style>\n",
       "<table border=\"1\" class=\"dataframe\">\n",
       "  <thead>\n",
       "    <tr style=\"text-align: right;\">\n",
       "      <th></th>\n",
       "      <th>Questions</th>\n",
       "      <th>Answers</th>\n",
       "    </tr>\n",
       "  </thead>\n",
       "  <tbody>\n",
       "    <tr>\n",
       "      <th>0</th>\n",
       "      <td>who are you ?</td>\n",
       "      <td>I'm ChatBot Developed by amazing Team of Assui...</td>\n",
       "    </tr>\n",
       "    <tr>\n",
       "      <th>1</th>\n",
       "      <td>what is your name?</td>\n",
       "      <td>You can call me Blackbeauty CHatbot</td>\n",
       "    </tr>\n",
       "    <tr>\n",
       "      <th>2</th>\n",
       "      <td>what should I call you?</td>\n",
       "      <td>I'm ChatBot Developed by amazing Team of Assui...</td>\n",
       "    </tr>\n",
       "    <tr>\n",
       "      <th>3</th>\n",
       "      <td>whats your name?</td>\n",
       "      <td>I'm ChatBot Developed by Bakli and his amazing...</td>\n",
       "    </tr>\n",
       "    <tr>\n",
       "      <th>4</th>\n",
       "      <td>who was Earl Smythe?</td>\n",
       "      <td>Beauty’s Owner at EarlShall Park</td>\n",
       "    </tr>\n",
       "  </tbody>\n",
       "</table>\n",
       "</div>"
      ],
      "text/plain": [
       "                 Questions                                            Answers\n",
       "0            who are you ?  I'm ChatBot Developed by amazing Team of Assui...\n",
       "1       what is your name?                You can call me Blackbeauty CHatbot\n",
       "2  what should I call you?  I'm ChatBot Developed by amazing Team of Assui...\n",
       "3         whats your name?  I'm ChatBot Developed by Bakli and his amazing...\n",
       "4     who was Earl Smythe?                   Beauty’s Owner at EarlShall Park"
      ]
     },
     "execution_count": 2,
     "metadata": {},
     "output_type": "execute_result"
    }
   ],
   "source": [
    "data.head()"
   ]
  },
  {
   "cell_type": "code",
   "execution_count": 3,
   "metadata": {},
   "outputs": [
    {
     "data": {
      "text/html": [
       "<div>\n",
       "<style scoped>\n",
       "    .dataframe tbody tr th:only-of-type {\n",
       "        vertical-align: middle;\n",
       "    }\n",
       "\n",
       "    .dataframe tbody tr th {\n",
       "        vertical-align: top;\n",
       "    }\n",
       "\n",
       "    .dataframe thead th {\n",
       "        text-align: right;\n",
       "    }\n",
       "</style>\n",
       "<table border=\"1\" class=\"dataframe\">\n",
       "  <thead>\n",
       "    <tr style=\"text-align: right;\">\n",
       "      <th></th>\n",
       "      <th>Questions</th>\n",
       "      <th>Answers</th>\n",
       "    </tr>\n",
       "  </thead>\n",
       "  <tbody>\n",
       "    <tr>\n",
       "      <th>count</th>\n",
       "      <td>309</td>\n",
       "      <td>309</td>\n",
       "    </tr>\n",
       "    <tr>\n",
       "      <th>unique</th>\n",
       "      <td>285</td>\n",
       "      <td>280</td>\n",
       "    </tr>\n",
       "    <tr>\n",
       "      <th>top</th>\n",
       "      <td>Why couldn’t they go forward?</td>\n",
       "      <td>The building collapsed.</td>\n",
       "    </tr>\n",
       "    <tr>\n",
       "      <th>freq</th>\n",
       "      <td>2</td>\n",
       "      <td>2</td>\n",
       "    </tr>\n",
       "  </tbody>\n",
       "</table>\n",
       "</div>"
      ],
      "text/plain": [
       "                            Questions                  Answers\n",
       "count                             309                      309\n",
       "unique                            285                      280\n",
       "top     Why couldn’t they go forward?  The building collapsed.\n",
       "freq                                2                        2"
      ]
     },
     "execution_count": 3,
     "metadata": {},
     "output_type": "execute_result"
    }
   ],
   "source": [
    "data.describe()"
   ]
  },
  {
   "cell_type": "code",
   "execution_count": null,
   "metadata": {},
   "outputs": [
    {
     "name": "stdout",
     "output_type": "stream",
     "text": [
      "Please enter a question: \n",
      "wuit\n",
      "Sorry I Can't I Understad you ,\n",
      " Did You Mean,who are you ??\n",
      " Yes Or No\n",
      "no\n",
      "Please enter a question: \n",
      "wuit\n",
      "Sorry I Can't I Understad you ,\n",
      " Did You Mean,who are you ??\n",
      " Yes Or No\n",
      "yes\n",
      "I'm ChatBot Developed by amazing Team of Assuit FCI.\n",
      "Please enter a question: \n",
      "quit\n",
      "Sorry I Can't I Understad you ,\n",
      " Did You Mean,who are you ??\n",
      " Yes Or No\n",
      "no\n",
      "Please enter a question: \n",
      "quit\n",
      "Sorry I Can't I Understad you ,\n",
      " Did You Mean,who are you ??\n",
      " Yes Or No\n",
      "Yes\n",
      "I'm ChatBot Developed by amazing Team of Assuit FCI.\n"
     ]
    }
   ],
   "source": [
    "vectorizer = TfidfVectorizer()\n",
    "\n",
    "vectorizer.fit(data.values.ravel())\n",
    "question=\"\"\n",
    "CHeck=\"\"\n",
    "while True:\n",
    "    question = [input('Please enter a question: \\n')]\n",
    "    question = vectorizer.transform(question)\n",
    "    CHeck=\"No\"\n",
    "    rank = cosine_similarity(question, vectorizer\n",
    "                             .transform(data['Questions'].values))\n",
    "    precent=np.amax(rank, axis=None, out=None) # Return Max Value In List\n",
    "    top3=np.argmax(rank)                       # Return Index Of Max Value\n",
    "    Output=\"\" \n",
    "    Output2=\"\"\n",
    "    if precent>=0.55: \n",
    "        Output = data['Answers'].iloc[top3]\n",
    "        print(Output) # Output\n",
    "    else  :\n",
    "        Output2 = \"Sorry I Can't I Understad you ,\\n Did You Mean,\"+data['Questions'].iloc[top3]+\"?\\n Yes Or No\"\n",
    "        print(Output2) # Output\n",
    "        CHeck = input() # Input if Guess True\n",
    "        if CHeck==\"Yes\" or CHeck==\"yes\" :   \n",
    "            Output = data['Answers'].iloc[top3]  \n",
    "            print(Output) # Output\n",
    "            \n",
    "        \n",
    "    \n",
    "  #  print(Output)\n",
    "  # print(precent)\n",
    "  #  print(top3)\n",
    "  #  print(question)\n",
    "  #  for item in top:\n",
    "  #      print(data['Answers'].iloc[item].values[0])\n",
    "  #      print(\"\\n ########## \\n\")"
   ]
  },
  {
   "cell_type": "code",
   "execution_count": null,
   "metadata": {},
   "outputs": [],
   "source": []
  },
  {
   "cell_type": "code",
   "execution_count": null,
   "metadata": {},
   "outputs": [],
   "source": []
  },
  {
   "cell_type": "code",
   "execution_count": null,
   "metadata": {},
   "outputs": [],
   "source": []
  },
  {
   "cell_type": "code",
   "execution_count": null,
   "metadata": {},
   "outputs": [],
   "source": []
  },
  {
   "cell_type": "code",
   "execution_count": null,
   "metadata": {},
   "outputs": [],
   "source": []
  }
 ],
 "metadata": {
  "kernelspec": {
   "display_name": "Python 3",
   "language": "python",
   "name": "python3"
  },
  "language_info": {
   "codemirror_mode": {
    "name": "ipython",
    "version": 3
   },
   "file_extension": ".py",
   "mimetype": "text/x-python",
   "name": "python",
   "nbconvert_exporter": "python",
   "pygments_lexer": "ipython3",
   "version": "3.7.3"
  }
 },
 "nbformat": 4,
 "nbformat_minor": 2
}
